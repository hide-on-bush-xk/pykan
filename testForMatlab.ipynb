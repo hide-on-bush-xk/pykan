{
 "cells": [
  {
   "cell_type": "code",
   "id": "initial_id",
   "metadata": {
    "collapsed": true,
    "ExecuteTime": {
     "end_time": "2024-06-19T09:00:35.231059Z",
     "start_time": "2024-06-19T09:00:35.214744Z"
    }
   },
   "source": [
    "import torch.jit\n",
    "\n",
    "from kan import *\n",
    "# create a KAN: 2D inputs, 1D output, and 5 hidden neurons. cubic spline (k=3), 5 grid intervals (grid=5).\n",
    "model = KAN(width=[2,5,1], grid=5, k=3, seed=0)"
   ],
   "outputs": [],
   "execution_count": 21
  },
  {
   "metadata": {},
   "cell_type": "markdown",
   "source": "",
   "id": "871524ceb58082ad"
  },
  {
   "metadata": {
    "ExecuteTime": {
     "end_time": "2024-06-19T09:00:35.243833Z",
     "start_time": "2024-06-19T09:00:35.232883Z"
    }
   },
   "cell_type": "code",
   "source": [
    "# create dataset f(x,y) = exp(sin(pi*x)+y^2)\n",
    "f = lambda x: torch.exp(torch.sin(torch.pi*x[:,[0]]) + x[:,[1]]**2)\n",
    "dataset = create_dataset(f, n_var=2)\n",
    "dataset['train_input'].shape, dataset['train_label'].shape\n",
    "# torch.save(model.state_dict(), 'model.pt')"
   ],
   "id": "466842b2088a5e99",
   "outputs": [
    {
     "data": {
      "text/plain": [
       "(torch.Size([1000, 2]), torch.Size([1000, 1]))"
      ]
     },
     "execution_count": 22,
     "metadata": {},
     "output_type": "execute_result"
    }
   ],
   "execution_count": 22
  },
  {
   "metadata": {
    "ExecuteTime": {
     "end_time": "2024-06-19T09:00:35.614497Z",
     "start_time": "2024-06-19T09:00:35.245030Z"
    }
   },
   "cell_type": "code",
   "source": [
    "exampleInput = torch.randn(1, 2)\n",
    "model_traced = torch.jit.trace(model,exampleInput)\n",
    "\n",
    "model_traced.save('model.pt')"
   ],
   "id": "2980fc0e5177c029",
   "outputs": [],
   "execution_count": 23
  },
  {
   "metadata": {
    "ExecuteTime": {
     "end_time": "2024-06-19T09:00:35.640095Z",
     "start_time": "2024-06-19T09:00:35.620523Z"
    }
   },
   "cell_type": "code",
   "source": "",
   "id": "975588334ce2415",
   "outputs": [],
   "execution_count": 23
  }
 ],
 "metadata": {
  "kernelspec": {
   "display_name": "Python 3",
   "language": "python",
   "name": "python3"
  },
  "language_info": {
   "codemirror_mode": {
    "name": "ipython",
    "version": 2
   },
   "file_extension": ".py",
   "mimetype": "text/x-python",
   "name": "python",
   "nbconvert_exporter": "python",
   "pygments_lexer": "ipython2",
   "version": "2.7.6"
  }
 },
 "nbformat": 4,
 "nbformat_minor": 5
}
